{
 "cells": [
  {
   "cell_type": "markdown",
   "metadata": {},
   "source": []
  },
  {
   "cell_type": "markdown",
   "metadata": {
    "collapsed": true
   },
   "source": [
    "# 環境構築"
   ]
  },
  {
   "cell_type": "markdown",
   "metadata": {},
   "source": [
    "## 入力ファイル・出力ファイルのディレクトリを指定するファイルを作成\n",
    "__セル内を適宜かきかえること__"
   ]
  },
  {
   "cell_type": "code",
   "execution_count": 5,
   "metadata": {},
   "outputs": [],
   "source": [
    "with open('.env',\"w\") as f:\n",
    "    f.write(\"dataRootDir = path/to/inputData\\r\\n\")\n",
    "    f.write(\"outputDir = ./output\")\n"
   ]
  },
  {
   "cell_type": "code",
   "execution_count": null,
   "metadata": {},
   "outputs": [
    {
     "name": "stdout",
     "output_type": "stream",
     "text": [
      "{'dataRootDir': \"'F:/Users/Chilly/bulk/dataset/facades'\", 'outputDir': \"'./output'\"}\n"
     ]
    },
    {
     "name": "stdout",
     "output_type": "stream",
     "text": [
      "Requirement already satisfied: cupy in c:\\users\\chilly.ice-desktop\\anaconda3\\lib\\site-packages (from -r requirements.txt (line 1)) (5.0.0)\nRequirement already satisfied: chainer in c:\\users\\chilly.ice-desktop\\anaconda3\\lib\\site-packages (from -r requirements.txt (line 2)) (5.0.0)\nRequirement already satisfied: scikit-image in c:\\users\\chilly.ice-desktop\\anaconda3\\lib\\site-packages (from -r requirements.txt (line 3)) (0.13.1)\nRequirement already satisfied: pillow in c:\\users\\chilly.ice-desktop\\anaconda3\\lib\\site-packages (from -r requirements.txt (line 4)) (5.1.0)\nRequirement already satisfied: six>=1.9.0 in c:\\users\\chilly.ice-desktop\\anaconda3\\lib\\site-packages (from cupy->-r requirements.txt (line 1)) (1.11.0)\nRequirement already satisfied: fastrlock>=0.3 in c:\\users\\chilly.ice-desktop\\anaconda3\\lib\\site-packages (from cupy->-r requirements.txt (line 1)) (0.4)\nRequirement already satisfied: numpy>=1.9.0 in c:\\users\\chilly.ice-desktop\\anaconda3\\lib\\site-packages (from cupy->-r requirements.txt (line 1)) (1.14.3)\nRequirement already satisfied: filelock in c:\\users\\chilly.ice-desktop\\anaconda3\\lib\\site-packages (from chainer->-r requirements.txt (line 2)) (3.0.4)\nRequirement already satisfied: protobuf>=3.0.0 in c:\\users\\chilly.ice-desktop\\anaconda3\\lib\\site-packages (from chainer->-r requirements.txt (line 2)) (3.6.1)\nRequirement already satisfied: matplotlib>=1.3.1 in c:\\users\\chilly.ice-desktop\\anaconda3\\lib\\site-packages (from scikit-image->-r requirements.txt (line 3)) (2.2.2)\nRequirement already satisfied: networkx>=1.8 in c:\\users\\chilly.ice-desktop\\anaconda3\\lib\\site-packages (from scikit-image->-r requirements.txt (line 3)) (2.1)\nRequirement already satisfied: PyWavelets>=0.4.0 in c:\\users\\chilly.ice-desktop\\anaconda3\\lib\\site-packages (from scikit-image->-r requirements.txt (line 3)) (0.5.2)\nRequirement already satisfied: setuptools in c:\\users\\chilly.ice-desktop\\anaconda3\\lib\\site-packages (from protobuf>=3.0.0->chainer->-r requirements.txt (line 2)) (39.1.0)\nRequirement already satisfied: cycler>=0.10 in c:\\users\\chilly.ice-desktop\\anaconda3\\lib\\site-packages (from matplotlib>=1.3.1->scikit-image->-r requirements.txt (line 3)) (0.10.0)\nRequirement already satisfied: pyparsing!=2.0.4,!=2.1.2,!=2.1.6,>=2.0.1 in c:\\users\\chilly.ice-desktop\\anaconda3\\lib\\site-packages (from matplotlib>=1.3.1->scikit-image->-r requirements.txt (line 3)) (2.2.0)\nRequirement already satisfied: python-dateutil>=2.1 in c:\\users\\chilly.ice-desktop\\anaconda3\\lib\\site-packages (from matplotlib>=1.3.1->scikit-image->-r requirements.txt (line 3)) (2.7.3)\nRequirement already satisfied: pytz in c:\\users\\chilly.ice-desktop\\anaconda3\\lib\\site-packages (from matplotlib>=1.3.1->scikit-image->-r requirements.txt (line 3)) (2018.4)\nRequirement already satisfied: kiwisolver>=1.0.1 in c:\\users\\chilly.ice-desktop\\anaconda3\\lib\\site-packages (from matplotlib>=1.3.1->scikit-image->-r requirements.txt (line 3)) (1.0.1)\nRequirement already satisfied: decorator>=4.1.0 in c:\\users\\chilly.ice-desktop\\anaconda3\\lib\\site-packages (from networkx>=1.8->scikit-image->-r requirements.txt (line 3)) (4.3.0)\n"
     ]
    },
    {
     "name": "stderr",
     "output_type": "stream",
     "text": [
      "distributed 1.21.8 requires msgpack, which is not installed.\nYou are using pip version 10.0.1, however version 18.1 is available.\nYou should consider upgrading via the 'python -m pip install --upgrade pip' command.\n"
     ]
    }
   ],
   "source": [
    "import os\n",
    "d = []\n",
    "for  line in open('.env'):\n",
    "    if not line.__contains__('=') : continue\n",
    "    d.append(line.strip().split(' = '))\n",
    "d = dict(d)\n",
    "os.environ['dataRootDir'] = d['dataRootDir']\n",
    "dataRootDir = d['dataRootDir']\n",
    "os.environ['outputDir'] = d['outputDir']\n",
    "outputDir = d['outputDir']\n",
    "print(d)\n",
    "\n",
    "#world4py インストール\n",
    "%cd /content\n",
    "!git clone --depth 1 https://github.com/yamachu/WORLD4py\n",
    "%cd /content/WORLD4py\n",
    "!python setup.py install\n",
    "%cd /content\n",
    "\n",
    "!pip install -r requirements.txt\n"
   ]
  },
  {
   "cell_type": "markdown",
   "metadata": {},
   "source": [
    "# 学習開始"
   ]
  },
  {
   "cell_type": "code",
   "execution_count": 21,
   "metadata": {
    "collapsed": false
   },
   "outputs": [
    {
     "name": "stdout",
     "output_type": "stream",
     "text": [
      "'F:/Users/Chilly/bulk/dataset/facades'\n"
     ]
    },
    {
     "name": "stdout",
     "output_type": "stream",
     "text": [
      "$dataRootDir\n"
     ]
    }
   ],
   "source": [
    "print(os.environ['dataRootDir'])\n",
    "!echo $dataRootDir"
   ]
  },
  {
   "cell_type": "code",
   "execution_count": 25,
   "metadata": {
    "collapsed": true
   },
   "outputs": [
    {
     "name": "stdout",
     "output_type": "stream",
     "text": [
      "1\n"
     ]
    }
   ],
   "source": [
    "#GPUありで学習\n",
    "cmd  = \"python train_facade.py -g 0 -i {} --out {} --snapshot_interval 10000\".format(d['dataRootDir'],d['outputDir'])\n",
    "import subprocess\n",
    "res = subprocess.call(cmd)\n",
    "print(res)"
   ]
  },
  {
   "cell_type": "code",
   "execution_count": 31,
   "metadata": {
    "collapsed": true
   },
   "outputs": [
    {
     "name": "stdout",
     "output_type": "stream",
     "text": [
      "GPU: 0\n# Minibatch-size: 1\n# epoch: 200\n\nload dataset start\n    from: 'F:/Users/Chilly/bulk/dataset/facades'\n    range: [1, 300)\n"
     ]
    },
    {
     "name": "stderr",
     "output_type": "stream",
     "text": [
      "C:\\Users\\Chilly.Ice-desktop\\Anaconda3\\lib\\site-packages\\h5py\\__init__.py:36: FutureWarning: Conversion of the second argument of issubdtype from `float` to `np.floating` is deprecated. In future, it will be treated as `np.float64 == np.dtype(float).type`.\n  from ._conv import register_converters as _register_converters\nTraceback (most recent call last):\n  File \"train_facade.py\", line 119, in <module>\n    main()\n  File \"train_facade.py\", line 70, in main\n    train_d = FacadeDataset(args.dataset, data_range=(1,300))\n  File \"E:\\Users\\Chilly\\My Documents\\GoogleBackup\\pycharm\\chainer-pix2pix\\facade_dataset.py\", line 28, in __init__\n    img = Image.open(dataDir+\"/cmp_b%04d.jpg\"%i)\n  File \"C:\\Users\\Chilly.Ice-desktop\\Anaconda3\\lib\\site-packages\\PIL\\Image.py\", line 2548, in open\n    fp = builtins.open(filename, \"rb\")\nOSError: [Errno 22] Invalid argument: \"'F:/Users/Chilly/bulk/dataset/facades'/cmp_b0001.jpg\"\n"
     ]
    }
   ],
   "source": [
    "#GPUありで学習\n",
    "!python train_facade.py -g 0 -i $dataRootDir --out $outputDir --snapshot_interval 10000\n"
   ]
  },
  {
   "cell_type": "code",
   "execution_count": null,
   "metadata": {},
   "outputs": [],
   "source": []
  }
 ],
 "metadata": {
  "kernelspec": {
   "display_name": "Python 3",
   "language": "python",
   "name": "python3"
  },
  "language_info": {
   "codemirror_mode": {
    "name": "ipython",
    "version": 3
   },
   "file_extension": ".py",
   "mimetype": "text/x-python",
   "name": "python",
   "nbconvert_exporter": "python",
   "pygments_lexer": "ipython3",
   "version": "3.6.6"
  }
 },
 "nbformat": 4,
 "nbformat_minor": 1
}
