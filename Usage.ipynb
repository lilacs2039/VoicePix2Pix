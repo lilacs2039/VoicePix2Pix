{
 "cells": [
  {
   "cell_type": "markdown",
   "metadata": {
    "id": "mAF_F0bECg48",
    "colab_type": "text"
   },
   "source": [
    "# 使い方・このノートブックについて\n",
    "\n",
    "- Google Colaboratoryで使用することを想定しています。\n",
    "- GPUインスタンスで実行してください\n",
    "- 実行前にdatasetフォルダ内に、データセットへのリンクとしてtrainとtestという名前でシンボリックリンクを作成してください\n",
    "\n"
   ]
  },
  {
   "cell_type": "markdown",
   "metadata": {
    "collapsed": true,
    "id": "ctCMQNvK5wkS",
    "colab_type": "text"
   },
   "source": [
    "# 環境構築"
   ]
  },
  {
   "cell_type": "code",
   "execution_count": 0,
   "metadata": {
    "id": "a7r0R9fkU8mv",
    "colab_type": "code",
    "colab": {}
   },
   "outputs": [],
   "source": [
    "#@title Example form fields\n",
    "#@markdown ## GoogleDrivedatasetのあるフォルダ\n",
    "#@markdown Googleドライブをマウントしてから左ペインのファイルタブから探すとよい\n",
    "dataset_train = 'My Drive/dataset/audio/yuduki-yukari/wagahai_ha_neko'  #@param {type: \"string\"}\n",
    "dataset_test = 'My Drive/dataset/audio/hiroshiba_normal_48kHz'  #@param {type: \"string\"}\n",
    "output = 'My Drive/Colab Notebooks/VoicePix2Pix'  #@param {type: \"string\"}\n",
    "#@markdown ---\n",
    "\n",
    "\n",
    "import os\n",
    "dataset_train = os.path.join('/content/drive/',dataset_train) + \"/\"\n",
    "dataset_test = os.path.join('/content/drive/',dataset_test) + \"/\"\n",
    "output = os.path.join('/content/drive/',output) + \"/\"\n",
    "\n",
    "os.environ['path_train'] = dataset_train\n",
    "os.environ['path_test'] = dataset_test\n",
    "os.environ['path_output'] = output\n",
    "\n"
   ]
  },
  {
   "cell_type": "code",
   "execution_count": 2,
   "metadata": {
    "id": "l306KcHk5wkY",
    "colab_type": "code",
    "colab": {
     "base_uri": "https://localhost:8080/",
     "height": 2672.0
    },
    "outputId": "840858a8-97d3-4214-8e03-ac2f2c1109ba",
    "executionInfo": {
     "status": "ok",
     "timestamp": 1.541346803835E12,
     "user_tz": -540.0,
     "elapsed": 688221.0,
     "user": {
      "displayName": "K F",
      "photoUrl": "",
      "userId": "17703453628790145078"
     }
    }
   },
   "outputs": [
    {
     "name": "stdout",
     "output_type": "stream",
     "text": [
      "Drive already mounted at /content/drive; to attempt to forcibly remount, call drive.mount(\"/content/drive\", force_remount=True).\n",
      "  % Total    % Received % Xferd  Average Speed   Time    Time     Time  Current\n",
      "                                 Dload  Upload   Total   Spent    Left  Speed\n",
      "100  1379  100  1379    0     0  10446      0 --:--:-- --:--:-- --:--:-- 10446\n",
      "+ apt -y -q install cuda-libraries-dev-9-2\n",
      "Reading package lists...\n",
      "Building dependency tree...\n",
      "Reading state information...\n",
      "The following additional packages will be installed:\n",
      "  cuda-cublas-dev-9-2 cuda-cufft-dev-9-2 cuda-curand-dev-9-2\n",
      "  cuda-cusolver-dev-9-2 cuda-cusparse-dev-9-2 cuda-npp-dev-9-2\n",
      "  cuda-nvgraph-dev-9-2 cuda-nvrtc-dev-9-2\n",
      "The following NEW packages will be installed:\n",
      "  cuda-cublas-dev-9-2 cuda-cufft-dev-9-2 cuda-curand-dev-9-2\n",
      "  cuda-cusolver-dev-9-2 cuda-cusparse-dev-9-2 cuda-libraries-dev-9-2\n",
      "  cuda-npp-dev-9-2 cuda-nvgraph-dev-9-2 cuda-nvrtc-dev-9-2\n",
      "0 upgraded, 9 newly installed, 0 to remove and 3 not upgraded.\n",
      "Need to get 332 MB of archives.\n",
      "After this operation, 972 MB of additional disk space will be used.\n",
      "Get:1 https://developer.download.nvidia.com/compute/cuda/repos/ubuntu1710/x86_64  cuda-cublas-dev-9-2 9.2.148.1-1 [50.4 MB]\n",
      "Get:2 https://developer.download.nvidia.com/compute/cuda/repos/ubuntu1710/x86_64  cuda-cufft-dev-9-2 9.2.148-1 [106 MB]\n",
      "Get:3 https://developer.download.nvidia.com/compute/cuda/repos/ubuntu1710/x86_64  cuda-curand-dev-9-2 9.2.148-1 [57.8 MB]\n",
      "Get:4 https://developer.download.nvidia.com/compute/cuda/repos/ubuntu1710/x86_64  cuda-cusolver-dev-9-2 9.2.148-1 [8,184 kB]\n",
      "Get:5 https://developer.download.nvidia.com/compute/cuda/repos/ubuntu1710/x86_64  cuda-cusparse-dev-9-2 9.2.148-1 [27.8 MB]\n",
      "Get:6 https://developer.download.nvidia.com/compute/cuda/repos/ubuntu1710/x86_64  cuda-nvrtc-dev-9-2 9.2.148-1 [9,348 B]\n",
      "Get:7 https://developer.download.nvidia.com/compute/cuda/repos/ubuntu1710/x86_64  cuda-nvgraph-dev-9-2 9.2.148-1 [30.1 MB]\n",
      "Get:8 https://developer.download.nvidia.com/compute/cuda/repos/ubuntu1710/x86_64  cuda-npp-dev-9-2 9.2.148-1 [52.0 MB]\n",
      "Get:9 https://developer.download.nvidia.com/compute/cuda/repos/ubuntu1710/x86_64  cuda-libraries-dev-9-2 9.2.148-1 [2,598 B]\n",
      "Fetched 332 MB in 6s (52.7 MB/s)\n",
      "Selecting previously unselected package cuda-cublas-dev-9-2.\n",
      "(Reading database ... 22280 files and directories currently installed.)\n",
      "Preparing to unpack .../0-cuda-cublas-dev-9-2_9.2.148.1-1_amd64.deb ...\n",
      "Unpacking cuda-cublas-dev-9-2 (9.2.148.1-1) ...\n",
      "Selecting previously unselected package cuda-cufft-dev-9-2.\n",
      "Preparing to unpack .../1-cuda-cufft-dev-9-2_9.2.148-1_amd64.deb ...\n",
      "Unpacking cuda-cufft-dev-9-2 (9.2.148-1) ...\n",
      "Selecting previously unselected package cuda-curand-dev-9-2.\n",
      "Preparing to unpack .../2-cuda-curand-dev-9-2_9.2.148-1_amd64.deb ...\n",
      "Unpacking cuda-curand-dev-9-2 (9.2.148-1) ...\n",
      "Selecting previously unselected package cuda-cusolver-dev-9-2.\n",
      "Preparing to unpack .../3-cuda-cusolver-dev-9-2_9.2.148-1_amd64.deb ...\n",
      "Unpacking cuda-cusolver-dev-9-2 (9.2.148-1) ...\n",
      "Selecting previously unselected package cuda-cusparse-dev-9-2.\n",
      "Preparing to unpack .../4-cuda-cusparse-dev-9-2_9.2.148-1_amd64.deb ...\n",
      "Unpacking cuda-cusparse-dev-9-2 (9.2.148-1) ...\n",
      "Selecting previously unselected package cuda-nvrtc-dev-9-2.\n",
      "Preparing to unpack .../5-cuda-nvrtc-dev-9-2_9.2.148-1_amd64.deb ...\n",
      "Unpacking cuda-nvrtc-dev-9-2 (9.2.148-1) ...\n",
      "Selecting previously unselected package cuda-nvgraph-dev-9-2.\n",
      "Preparing to unpack .../6-cuda-nvgraph-dev-9-2_9.2.148-1_amd64.deb ...\n",
      "Unpacking cuda-nvgraph-dev-9-2 (9.2.148-1) ...\n",
      "Selecting previously unselected package cuda-npp-dev-9-2.\n",
      "Preparing to unpack .../7-cuda-npp-dev-9-2_9.2.148-1_amd64.deb ...\n",
      "Unpacking cuda-npp-dev-9-2 (9.2.148-1) ...\n",
      "Selecting previously unselected package cuda-libraries-dev-9-2.\n",
      "Preparing to unpack .../8-cuda-libraries-dev-9-2_9.2.148-1_amd64.deb ...\n",
      "Unpacking cuda-libraries-dev-9-2 (9.2.148-1) ...\n",
      "Setting up cuda-npp-dev-9-2 (9.2.148-1) ...\n",
      "Setting up cuda-curand-dev-9-2 (9.2.148-1) ...\n",
      "Setting up cuda-nvrtc-dev-9-2 (9.2.148-1) ...\n",
      "Setting up cuda-cusolver-dev-9-2 (9.2.148-1) ...\n",
      "Setting up cuda-cufft-dev-9-2 (9.2.148-1) ...\n",
      "Setting up cuda-cusparse-dev-9-2 (9.2.148-1) ...\n",
      "Setting up cuda-cublas-dev-9-2 (9.2.148.1-1) ...\n",
      "Setting up cuda-nvgraph-dev-9-2 (9.2.148-1) ...\n",
      "Setting up cuda-libraries-dev-9-2 (9.2.148-1) ...\n",
      "+ pip install -q cupy-cuda92  chainer \n",
      "+ set +ex\n",
      "Installation succeeded!\n",
      "/content\n",
      "fatal: destination path 'WORLD4py' already exists and is not an empty directory.\n",
      "/content/WORLD4py\n",
      "running install\n",
      "running build\n",
      "running build_py\n",
      "running install_lib\n",
      "running install_egg_info\n",
      "running egg_info\n",
      "writing world4py.egg-info/PKG-INFO\n",
      "writing dependency_links to world4py.egg-info/dependency_links.txt\n",
      "writing top-level names to world4py.egg-info/top_level.txt\n",
      "reading manifest file 'world4py.egg-info/SOURCES.txt'\n",
      "writing manifest file 'world4py.egg-info/SOURCES.txt'\n",
      "removing '/usr/local/lib/python3.6/dist-packages/world4py-0.1-py3.6.egg-info' (and everything under it)\n",
      "Copying world4py.egg-info to /usr/local/lib/python3.6/dist-packages/world4py-0.1-py3.6.egg-info\n",
      "running install_scripts\n",
      "/content\n",
      "fatal: destination path 'VoicePix2Pix' already exists and is not an empty directory.\n",
      "/content/VoicePix2Pix\n",
      "Collecting cupy (from -r requirements.txt (line 1))\n",
      "  Using cached https://files.pythonhosted.org/packages/cc/60/74bce24d1570cd974567599862ebf15d8719504b09766a6cc1a0d10435a5/cupy-5.0.0.tar.gz\n",
      "Requirement already satisfied: chainer in /usr/local/lib/python3.6/dist-packages (from -r requirements.txt (line 2)) (5.0.0)\n",
      "Requirement already satisfied: scikit-image in /usr/local/lib/python3.6/dist-packages (from -r requirements.txt (line 3)) (0.13.1)\n",
      "Requirement already satisfied: pillow in /usr/local/lib/python3.6/dist-packages (from -r requirements.txt (line 4)) (4.0.0)\n",
      "Collecting pyworld (from -r requirements.txt (line 5))\n",
      "\u001b[?25l  Downloading https://files.pythonhosted.org/packages/dc/8d/f83aef293df2fb9f3435f129ea7a02f55fd0fe04ada69bf4207d5ffbc92c/pyworld-0.2.8.tar.gz (74kB)\n",
      "\u001b[K    100% |████████████████████████████████| 81kB 4.4MB/s \n",
      "\u001b[?25hRequirement already satisfied: numpy>=1.9.0 in /usr/local/lib/python3.6/dist-packages (from cupy->-r requirements.txt (line 1)) (1.14.6)\n",
      "Requirement already satisfied: six>=1.9.0 in /usr/local/lib/python3.6/dist-packages (from cupy->-r requirements.txt (line 1)) (1.11.0)\n",
      "Requirement already satisfied: fastrlock>=0.3 in /usr/local/lib/python3.6/dist-packages (from cupy->-r requirements.txt (line 1)) (0.4)\n",
      "Requirement already satisfied: protobuf>=3.0.0 in /usr/local/lib/python3.6/dist-packages (from chainer->-r requirements.txt (line 2)) (3.6.1)\n",
      "Requirement already satisfied: filelock in /usr/local/lib/python3.6/dist-packages (from chainer->-r requirements.txt (line 2)) (3.0.9)\n",
      "Requirement already satisfied: matplotlib>=1.3.1 in /usr/local/lib/python3.6/dist-packages (from scikit-image->-r requirements.txt (line 3)) (2.1.2)\n",
      "Requirement already satisfied: networkx>=1.8 in /usr/local/lib/python3.6/dist-packages (from scikit-image->-r requirements.txt (line 3)) (2.2)\n",
      "Requirement already satisfied: scipy>=0.17.0 in /usr/local/lib/python3.6/dist-packages (from scikit-image->-r requirements.txt (line 3)) (0.19.1)\n",
      "Requirement already satisfied: PyWavelets>=0.4.0 in /usr/local/lib/python3.6/dist-packages (from scikit-image->-r requirements.txt (line 3)) (1.0.1)\n",
      "Requirement already satisfied: olefile in /usr/local/lib/python3.6/dist-packages (from pillow->-r requirements.txt (line 4)) (0.46)\n",
      "Collecting cython>=0.24.0 (from pyworld->-r requirements.txt (line 5))\n",
      "\u001b[?25l  Downloading https://files.pythonhosted.org/packages/64/3f/cac281f3f019b825bbc03fa8cb7eb03d9c355f4aa9eef978279a4966cb21/Cython-0.29-cp36-cp36m-manylinux1_x86_64.whl (2.1MB)\n",
      "\u001b[K    100% |████████████████████████████████| 2.1MB 11.7MB/s \n",
      "\u001b[?25hRequirement already satisfied: setuptools in /usr/local/lib/python3.6/dist-packages (from protobuf>=3.0.0->chainer->-r requirements.txt (line 2)) (40.5.0)\n",
      "Requirement already satisfied: pytz in /usr/local/lib/python3.6/dist-packages (from matplotlib>=1.3.1->scikit-image->-r requirements.txt (line 3)) (2018.7)\n",
      "Requirement already satisfied: python-dateutil>=2.1 in /usr/local/lib/python3.6/dist-packages (from matplotlib>=1.3.1->scikit-image->-r requirements.txt (line 3)) (2.5.3)\n",
      "Requirement already satisfied: pyparsing!=2.0.4,!=2.1.2,!=2.1.6,>=2.0.1 in /usr/local/lib/python3.6/dist-packages (from matplotlib>=1.3.1->scikit-image->-r requirements.txt (line 3)) (2.3.0)\n",
      "Requirement already satisfied: cycler>=0.10 in /usr/local/lib/python3.6/dist-packages (from matplotlib>=1.3.1->scikit-image->-r requirements.txt (line 3)) (0.10.0)\n",
      "Requirement already satisfied: decorator>=4.3.0 in /usr/local/lib/python3.6/dist-packages (from networkx>=1.8->scikit-image->-r requirements.txt (line 3)) (4.3.0)\n",
      "Building wheels for collected packages: cupy, pyworld\n",
      "  Running setup.py bdist_wheel for cupy ... \u001b[?25l-\b \b\\\b \b|\b \b/\b \b-\b \b\\\b \b|\b \b/\b \b-\b \b\\\b \b|\b \b/\b \b-\b \b\\\b \b|\b \b/\b \b-\b \b\\\b \b|\b \b/\b \b-\b \b\\\b \b|\b \b/\b \b-\b \b\\\b \b|\b \b/\b \b-\b \b\\\b \b|\b \b/\b \b-\b \b\\\b \b|\b \b/\b \b-\b \b\\\b \b|\b \b/\b \b-\b \b\\\b \b|\b \b/\b \b-\b \b\\\b \b|\b \b/\b \b-\b \b\\\b \b|\b \bdone\n",
      "\u001b[?25h  Stored in directory: /root/.cache/pip/wheels/03/6b/37/8dcd1eac270dad598278f67ca500b6088f64490a32122eddcd\n",
      "  Running setup.py bdist_wheel for pyworld ... \u001b[?25l-\b \b\\\b \berror\n",
      "  Complete output from command /usr/bin/python3 -u -c \"import setuptools, tokenize;__file__='/tmp/pip-install-ghte8fet/pyworld/setup.py';f=getattr(tokenize, 'open', open)(__file__);code=f.read().replace('\\r\\n', '\\n');f.close();exec(compile(code, __file__, 'exec'))\" bdist_wheel -d /tmp/pip-wheel-8n2tn2fh --python-tag cp36:\n",
      "  running bdist_wheel\n",
      "  running build\n",
      "  running build_py\n",
      "  creating build\n",
      "  creating build/lib.linux-x86_64-3.6\n",
      "  creating build/lib.linux-x86_64-3.6/pyworld\n",
      "  copying pyworld/__init__.py -> build/lib.linux-x86_64-3.6/pyworld\n",
      "  running build_ext\n",
      "  building 'pyworld.pyworld' extension\n",
      "  creating build/temp.linux-x86_64-3.6\n",
      "  creating build/temp.linux-x86_64-3.6/pyworld\n",
      "  creating build/temp.linux-x86_64-3.6/lib\n",
      "  creating build/temp.linux-x86_64-3.6/lib/World\n",
      "  creating build/temp.linux-x86_64-3.6/lib/World/src\n",
      "  x86_64-linux-gnu-gcc -pthread -DNDEBUG -g -fwrapv -O2 -Wall -g -fstack-protector-strong -Wformat -Werror=format-security -Wdate-time -D_FORTIFY_SOURCE=2 -fPIC -Ilib/World/src -I/usr/include/python3.6m -I/usr/local/lib/python3.6/dist-packages/numpy/core/include -c pyworld/pyworld.cpp -o build/temp.linux-x86_64-3.6/pyworld/pyworld.o\n",
      "  x86_64-linux-gnu-gcc: error: pyworld/pyworld.cpp: No such file or directory\n",
      "  x86_64-linux-gnu-gcc: fatal error: no input files\n",
      "  compilation terminated.\n",
      "  error: command 'x86_64-linux-gnu-gcc' failed with exit status 1\n",
      "  \n",
      "  ----------------------------------------\n",
      "\u001b[31m  Failed building wheel for pyworld\u001b[0m\n",
      "\u001b[?25h  Running setup.py clean for pyworld\n",
      "Successfully built cupy\n",
      "Failed to build pyworld\n",
      "Installing collected packages: cupy, cython, pyworld\n",
      "  Running setup.py install for pyworld ... \u001b[?25l-\b \b\\\b \b|\b \b/\b \b-\b \b\\\b \b|\b \b/\b \b-\b \b\\\b \b|\b \b/\b \b-\b \b\\\b \b|\b \b/\b \b-\b \bdone\n",
      "\u001b[?25hSuccessfully installed cupy-5.0.0 cython-0.29 pyworld-0.2.8\n",
      "rm: cannot remove '/content/VoicePix2Pix/dataset': No such file or directory\n",
      "ln: failed to create symbolic link '/content/become-yukarin/dat': No such file or directory\n",
      "[Errno 2] No such file or directory: '/content/become-yukarin/dat'\n",
      "/content/VoicePix2Pix\n",
      "data_loader.py\t     LICENSE  README.md\t\ttest\t  updater.py   util.py\n",
      "image_visualizer.py  net.py   requirements.txt\ttrain.py  Usage.ipynb\n"
     ]
    }
   ],
   "source": [
    "# Googleドライブをマウント\n",
    "from google.colab import drive\n",
    "drive.mount('/content/drive')\n",
    "\n",
    "# Chainer/CuPy Installer for Google Colaboratory\n",
    "# https://github.com/kmaehashi/chainer-colab\n",
    "!curl https://colab.chainer.org/install | sh -\n",
    "\n",
    "#world4py インストール\n",
    "%cd /content\n",
    "!git clone --depth 1 https://github.com/yamachu/WORLD4py\n",
    "%cd /content/WORLD4py\n",
    "!python setup.py install\n",
    "\n",
    "# VoicePix2Pixをclone\n",
    "%cd /content\n",
    "!git clone --depth 1 https://github.com/lilacs2039/VoicePix2Pix\n",
    "%cd /content/VoicePix2Pix\n",
    "!pip install -r requirements.txt\n",
    "\n",
    "# シンボリックリンクを作成\n",
    "!rm /content/VoicePix2Pix/dataset/train\n",
    "!ln -s \"$path_train\" /content/VoicePix2Pix/dataset/train\n",
    "!rm /content/VoicePix2Pix/dataset/test\n",
    "!ln -s \"$path_test\" /content/VoicePix2Pix/dataset/test\n",
    "!rm /content/VoicePix2Pix/output\n",
    "!ln -s \"$path_output\" /content/VoicePix2Pix/output\n",
    "\n",
    "%cd /content/VoicePix2Pix\n"
   ]
  },
  {
   "cell_type": "markdown",
   "metadata": {
    "id": "xpYYlFim5wkc",
    "colab_type": "text"
   },
   "source": [
    "# 学習開始"
   ]
  },
  {
   "cell_type": "code",
   "execution_count": 27,
   "metadata": {
    "id": "0z3TbEXI5wkj",
    "colab_type": "code",
    "colab": {
     "base_uri": "https://localhost:8080/",
     "height": 972.0
    },
    "outputId": "224df970-7ec8-4300-911e-413fb966445f",
    "executionInfo": {
     "status": "ok",
     "timestamp": 1.541350507372E12,
     "user_tz": -540.0,
     "elapsed": 93274.0,
     "user": {
      "displayName": "K F",
      "photoUrl": "",
      "userId": "17703453628790145078"
     }
    }
   },
   "outputs": [
    {
     "name": "stdout",
     "output_type": "stream",
     "text": [
      "/content/VoicePix2Pix\n",
      "GPU: -1\n",
      "# Minibatch-size: 1\n",
      "# epoch: 200\n",
      "\n",
      "search dataset paths\n",
      "    from: ./dataset/train\n",
      "load dataset paths done\n",
      "search dataset paths\n",
      "    from: ./dataset/test\n",
      "load dataset paths done\n",
      "/content/VoicePix2Pix/util.py:71: RuntimeWarning: divide by zero encountered in log10\n",
      "  Dabs = np.log10(np.abs(D))\n",
      "/content/VoicePix2Pix/util.py:119: RuntimeWarning: invalid value encountered in multiply\n",
      "  scaled = ndArray * scale_factor\n",
      "/usr/local/lib/python3.6/dist-packages/numpy/core/_methods.py:29: RuntimeWarning: invalid value encountered in reduce\n",
      "  return umr_minimum(a, axis, None, out, keepdims)\n",
      "/usr/local/lib/python3.6/dist-packages/chainer/functions/activation/leaky_relu.py:38: RuntimeWarning: invalid value encountered in less\n",
      "  y[x < 0] *= self.slope\n",
      "tcmalloc: large alloc 1879048192 bytes == 0x9fd6e000 @  0x7faa7f6861e7 0x7faa7d37ca41 0x7faa7d3dfc13 0x7faa7d380937 0x526445 0x59f9fc 0x511b0a 0x4f6070 0x4f3338 0x510fb0 0x5119bd 0x4f6070 0x510c78 0x5119bd 0x4f5277 0x510c78 0x5119bd 0x4f5277 0x510c78 0x5119bd 0x4f5277 0x4f3338 0x510fb0 0x5119bd 0x4f5277 0x4f3338 0x510fb0 0x5119bd 0x4f6070 0x510375 0x5917a1\n",
      "/usr/local/lib/python3.6/dist-packages/chainer/iterators/multiprocess_iterator.py:636: UserWarning: Shared memory size is too small.\n",
      "Please set shared_mem option for MultiprocessIterator.\n",
      "Expect shared memory size: 16777216 bytes.\n",
      "Actual shared memory size: 12582912 bytes.\n",
      "  UserWarning)\n",
      "/usr/local/lib/python3.6/dist-packages/chainer/iterators/multiprocess_iterator.py:636: UserWarning: Shared memory size is too small.\n",
      "Please set shared_mem option for MultiprocessIterator.\n",
      "Expect shared memory size: 18874368 bytes.\n",
      "Actual shared memory size: 10485760 bytes.\n",
      "  UserWarning)\n",
      "tcmalloc: large alloc 1879048192 bytes == 0x122714000 @  0x7faa7f6861e7 0x7faa7d37ca41 0x7faa7d3dfc13 0x7faa7d3dfd7f 0x7faa7d4b555b 0x7faa7d47baf6 0x7faa7d47ceca 0x511b75 0x4f5277 0x4f3338 0x510fb0 0x5119bd 0x4f5277 0x510c78 0x5119bd 0x4f5277 0x510c78 0x5119bd 0x4f5277 0x510c78 0x5119bd 0x4f5277 0x4f3338 0x510fb0 0x5119bd 0x4f5277 0x4f3338 0x510fb0 0x5119bd 0x4f6070 0x510375\n",
      "tcmalloc: large alloc 8455716864 bytes == 0x246cde000 @  0x7faa7f6861e7 0x7faa7d37ca41 0x7faa7d3dfc13 0x7faa7d380937 0x526445 0x59f9fc 0x511b0a 0x4f6070 0x4f3338 0x510fb0 0x5119bd 0x4f6070 0x510c78 0x5119bd 0x4f5277 0x510c78 0x5119bd 0x4f5277 0x510c78 0x5119bd 0x4f5277 0x4f3338 0x510fb0 0x5119bd 0x4f5277 0x4f3338 0x510fb0 0x5119bd 0x4f6070 0x510375 0x5917a1\n",
      "Exception in thread Thread-2:\n",
      "Traceback (most recent call last):\n",
      "  File \"/usr/lib/python3.6/threading.py\", line 916, in _bootstrap_inner\n",
      "    self.run()\n",
      "  File \"/usr/lib/python3.6/threading.py\", line 864, in run\n",
      "    self._target(*self._args, **self._kwargs)\n",
      "  File \"/usr/lib/python3.6/multiprocessing/pool.py\", line 405, in _handle_workers\n",
      "    pool._maintain_pool()\n",
      "  File \"/usr/lib/python3.6/multiprocessing/pool.py\", line 246, in _maintain_pool\n",
      "    self._repopulate_pool()\n",
      "  File \"/usr/lib/python3.6/multiprocessing/pool.py\", line 239, in _repopulate_pool\n",
      "    w.start()\n",
      "  File \"/usr/lib/python3.6/multiprocessing/process.py\", line 105, in start\n",
      "    self._popen = self._Popen(self)\n",
      "  File \"/usr/lib/python3.6/multiprocessing/context.py\", line 277, in _Popen\n",
      "    return Popen(process_obj)\n",
      "  File \"/usr/lib/python3.6/multiprocessing/popen_fork.py\", line 19, in __init__\n",
      "    self._launch(process_obj)\n",
      "  File \"/usr/lib/python3.6/multiprocessing/popen_fork.py\", line 66, in _launch\n",
      "    self.pid = os.fork()\n",
      "OSError: [Errno 12] Cannot allocate memory\n",
      "\n",
      "^C\n"
     ]
    }
   ],
   "source": [
    "#GPUありで学習\n",
    "%cd /content/VoicePix2Pix\n",
    "#!python train.py -g 0 -i ./dataset --out ./output --snapshot_interval 1600 --processes 2\n",
    "!python train.py -g -1 -i ./dataset --out ./output --snapshot_interval 1600 \n",
    "\n"
   ]
  },
  {
   "cell_type": "code",
   "execution_count": 25,
   "metadata": {
    "id": "yIacX46C5wkn",
    "colab_type": "code",
    "colab": {
     "base_uri": "https://localhost:8080/",
     "height": 306.0
    },
    "outputId": "a5f63656-b00a-46c5-fc58-be842dcd1cef",
    "executionInfo": {
     "status": "ok",
     "timestamp": 1.54134985375E12,
     "user_tz": -540.0,
     "elapsed": 2154.0,
     "user": {
      "displayName": "K F",
      "photoUrl": "",
      "userId": "17703453628790145078"
     }
    }
   },
   "outputs": [
    {
     "name": "stdout",
     "output_type": "stream",
     "text": [
      "Sun Nov  4 16:44:12 2018       \n",
      "+-----------------------------------------------------------------------------+\n",
      "| NVIDIA-SMI 396.44                 Driver Version: 396.44                    |\n",
      "|-------------------------------+----------------------+----------------------+\n",
      "| GPU  Name        Persistence-M| Bus-Id        Disp.A | Volatile Uncorr. ECC |\n",
      "| Fan  Temp  Perf  Pwr:Usage/Cap|         Memory-Usage | GPU-Util  Compute M. |\n",
      "|===============================+======================+======================|\n",
      "|   0  Tesla K80           Off  | 00000000:00:04.0 Off |                    0 |\n",
      "| N/A   60C    P8    32W / 149W |      0MiB / 11441MiB |      0%      Default |\n",
      "+-------------------------------+----------------------+----------------------+\n",
      "                                                                               \n",
      "+-----------------------------------------------------------------------------+\n",
      "| Processes:                                                       GPU Memory |\n",
      "|  GPU       PID   Type   Process name                             Usage      |\n",
      "|=============================================================================|\n",
      "|  No running processes found                                                 |\n",
      "+-----------------------------------------------------------------------------+\n"
     ]
    }
   ],
   "source": [
    "!nvidia-smi\n"
   ]
  },
  {
   "cell_type": "code",
   "execution_count": 0,
   "metadata": {
    "id": "sYNXqfvC5wkd",
    "colab_type": "code",
    "colab": {}
   },
   "outputs": [],
   "source": [
    "print(os.environ['dataRootDir'])\n",
    "!echo $dataRootDir"
   ]
  },
  {
   "cell_type": "code",
   "execution_count": 0,
   "metadata": {
    "id": "jyUsuv-I5wkg",
    "colab_type": "code",
    "colab": {}
   },
   "outputs": [],
   "source": [
    "#GPUありで学習\n",
    "cmd  = \"python train_facade.py -g 0 -i {} --out {} --snapshot_interval 10000\".format(d['dataRootDir'],d['outputDir'])\n",
    "import subprocess\n",
    "res = subprocess.call(cmd)\n",
    "print(res)"
   ]
  }
 ],
 "metadata": {
  "colab": {
   "name": "Usage.ipynb",
   "version": "0.3.2",
   "provenance": [],
   "collapsed_sections": [],
   "toc_visible": true
  },
  "kernelspec": {
   "name": "python3",
   "display_name": "Python 3"
  },
  "accelerator": "GPU"
 },
 "nbformat": 4,
 "nbformat_minor": 0
}
