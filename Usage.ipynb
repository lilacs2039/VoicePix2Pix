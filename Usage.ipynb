{
  "nbformat": 4,
  "nbformat_minor": 0,
  "metadata": {
    "colab": {
      "name": "Usage.ipynb",
      "version": "0.3.2",
      "provenance": [],
      "include_colab_link": true
    },
    "kernelspec": {
      "display_name": "Python 3",
      "language": "python",
      "name": "python3"
    }
  },
  "cells": [
    {
      "cell_type": "markdown",
      "metadata": {
        "id": "view-in-github",
        "colab_type": "text"
      },
      "source": [
        "<a href=\"https://colab.research.google.com/github/lilacs2039/VoicePix2Pix/blob/tmp/Usage.ipynb\" target=\"_parent\"><img src=\"https://colab.research.google.com/assets/colab-badge.svg\" alt=\"Open In Colab\"/></a>"
      ]
    },
    {
      "metadata": {
        "id": "EP5a4mIN5wkR",
        "colab_type": "text"
      },
      "cell_type": "markdown",
      "source": [
        ""
      ]
    },
    {
      "metadata": {
        "collapsed": true,
        "id": "ctCMQNvK5wkS",
        "colab_type": "text"
      },
      "cell_type": "markdown",
      "source": [
        "# 環境構築"
      ]
    },
    {
      "metadata": {
        "id": "fim1e68Q5wkS",
        "colab_type": "text"
      },
      "cell_type": "markdown",
      "source": [
        "## 入力ファイル・出力ファイルのディレクトリを指定するファイルを作成\n",
        "__セル内を適宜かきかえること__"
      ]
    },
    {
      "metadata": {
        "id": "Q3oCUgqV5wkU",
        "colab_type": "code",
        "colab": {}
      },
      "cell_type": "code",
      "source": [
        "with open('.env',\"w\") as f:\n",
        "    f.write(\"dataRootDir = path/to/inputData\\r\\n\")\n",
        "    f.write(\"outputDir = ./output\")\n"
      ],
      "execution_count": 0,
      "outputs": []
    },
    {
      "metadata": {
        "id": "l306KcHk5wkY",
        "colab_type": "code",
        "colab": {},
        "outputId": "56967203-afc3-41cf-aa9d-f31d421c579d"
      },
      "cell_type": "code",
      "source": [
        "import os\n",
        "d = []\n",
        "for  line in open('.env'):\n",
        "    if not line.__contains__('=') : continue\n",
        "    d.append(line.strip().split(' = '))\n",
        "d = dict(d)\n",
        "os.environ['dataRootDir'] = d['dataRootDir']\n",
        "dataRootDir = d['dataRootDir']\n",
        "os.environ['outputDir'] = d['outputDir']\n",
        "outputDir = d['outputDir']\n",
        "print(d)\n",
        "\n",
        "#world4py インストール\n",
        "%cd /content\n",
        "!git clone --depth 1 https://github.com/yamachu/WORLD4py\n",
        "%cd /content/WORLD4py\n",
        "!python setup.py install\n",
        "%cd /content\n",
        "\n",
        "!pip install -r requirements.txt\n"
      ],
      "execution_count": 0,
      "outputs": [
        {
          "output_type": "stream",
          "text": [
            "{'dataRootDir': \"'F:/Users/Chilly/bulk/dataset/facades'\", 'outputDir': \"'./output'\"}\n"
          ],
          "name": "stdout"
        },
        {
          "output_type": "stream",
          "text": [
            "Requirement already satisfied: cupy in c:\\users\\chilly.ice-desktop\\anaconda3\\lib\\site-packages (from -r requirements.txt (line 1)) (5.0.0)\n",
            "Requirement already satisfied: chainer in c:\\users\\chilly.ice-desktop\\anaconda3\\lib\\site-packages (from -r requirements.txt (line 2)) (5.0.0)\n",
            "Requirement already satisfied: scikit-image in c:\\users\\chilly.ice-desktop\\anaconda3\\lib\\site-packages (from -r requirements.txt (line 3)) (0.13.1)\n",
            "Requirement already satisfied: pillow in c:\\users\\chilly.ice-desktop\\anaconda3\\lib\\site-packages (from -r requirements.txt (line 4)) (5.1.0)\n",
            "Requirement already satisfied: six>=1.9.0 in c:\\users\\chilly.ice-desktop\\anaconda3\\lib\\site-packages (from cupy->-r requirements.txt (line 1)) (1.11.0)\n",
            "Requirement already satisfied: fastrlock>=0.3 in c:\\users\\chilly.ice-desktop\\anaconda3\\lib\\site-packages (from cupy->-r requirements.txt (line 1)) (0.4)\n",
            "Requirement already satisfied: numpy>=1.9.0 in c:\\users\\chilly.ice-desktop\\anaconda3\\lib\\site-packages (from cupy->-r requirements.txt (line 1)) (1.14.3)\n",
            "Requirement already satisfied: filelock in c:\\users\\chilly.ice-desktop\\anaconda3\\lib\\site-packages (from chainer->-r requirements.txt (line 2)) (3.0.4)\n",
            "Requirement already satisfied: protobuf>=3.0.0 in c:\\users\\chilly.ice-desktop\\anaconda3\\lib\\site-packages (from chainer->-r requirements.txt (line 2)) (3.6.1)\n",
            "Requirement already satisfied: matplotlib>=1.3.1 in c:\\users\\chilly.ice-desktop\\anaconda3\\lib\\site-packages (from scikit-image->-r requirements.txt (line 3)) (2.2.2)\n",
            "Requirement already satisfied: networkx>=1.8 in c:\\users\\chilly.ice-desktop\\anaconda3\\lib\\site-packages (from scikit-image->-r requirements.txt (line 3)) (2.1)\n",
            "Requirement already satisfied: PyWavelets>=0.4.0 in c:\\users\\chilly.ice-desktop\\anaconda3\\lib\\site-packages (from scikit-image->-r requirements.txt (line 3)) (0.5.2)\n",
            "Requirement already satisfied: setuptools in c:\\users\\chilly.ice-desktop\\anaconda3\\lib\\site-packages (from protobuf>=3.0.0->chainer->-r requirements.txt (line 2)) (39.1.0)\n",
            "Requirement already satisfied: cycler>=0.10 in c:\\users\\chilly.ice-desktop\\anaconda3\\lib\\site-packages (from matplotlib>=1.3.1->scikit-image->-r requirements.txt (line 3)) (0.10.0)\n",
            "Requirement already satisfied: pyparsing!=2.0.4,!=2.1.2,!=2.1.6,>=2.0.1 in c:\\users\\chilly.ice-desktop\\anaconda3\\lib\\site-packages (from matplotlib>=1.3.1->scikit-image->-r requirements.txt (line 3)) (2.2.0)\n",
            "Requirement already satisfied: python-dateutil>=2.1 in c:\\users\\chilly.ice-desktop\\anaconda3\\lib\\site-packages (from matplotlib>=1.3.1->scikit-image->-r requirements.txt (line 3)) (2.7.3)\n",
            "Requirement already satisfied: pytz in c:\\users\\chilly.ice-desktop\\anaconda3\\lib\\site-packages (from matplotlib>=1.3.1->scikit-image->-r requirements.txt (line 3)) (2018.4)\n",
            "Requirement already satisfied: kiwisolver>=1.0.1 in c:\\users\\chilly.ice-desktop\\anaconda3\\lib\\site-packages (from matplotlib>=1.3.1->scikit-image->-r requirements.txt (line 3)) (1.0.1)\n",
            "Requirement already satisfied: decorator>=4.1.0 in c:\\users\\chilly.ice-desktop\\anaconda3\\lib\\site-packages (from networkx>=1.8->scikit-image->-r requirements.txt (line 3)) (4.3.0)\n"
          ],
          "name": "stdout"
        },
        {
          "output_type": "stream",
          "text": [
            "distributed 1.21.8 requires msgpack, which is not installed.\n",
            "You are using pip version 10.0.1, however version 18.1 is available.\n",
            "You should consider upgrading via the 'python -m pip install --upgrade pip' command.\n"
          ],
          "name": "stderr"
        }
      ]
    },
    {
      "metadata": {
        "id": "xpYYlFim5wkc",
        "colab_type": "text"
      },
      "cell_type": "markdown",
      "source": [
        "# 学習開始"
      ]
    },
    {
      "metadata": {
        "id": "sYNXqfvC5wkd",
        "colab_type": "code",
        "colab": {},
        "outputId": "4cdec1a4-27ac-437d-e5d6-56a8d4468858"
      },
      "cell_type": "code",
      "source": [
        "print(os.environ['dataRootDir'])\n",
        "!echo $dataRootDir"
      ],
      "execution_count": 0,
      "outputs": [
        {
          "output_type": "stream",
          "text": [
            "'F:/Users/Chilly/bulk/dataset/facades'\n"
          ],
          "name": "stdout"
        },
        {
          "output_type": "stream",
          "text": [
            "$dataRootDir\n"
          ],
          "name": "stdout"
        }
      ]
    },
    {
      "metadata": {
        "collapsed": true,
        "id": "jyUsuv-I5wkg",
        "colab_type": "code",
        "colab": {},
        "outputId": "de25cdf7-71d4-4615-fd22-73e35b5d06d5"
      },
      "cell_type": "code",
      "source": [
        "#GPUありで学習\n",
        "cmd  = \"python train_facade.py -g 0 -i {} --out {} --snapshot_interval 10000\".format(d['dataRootDir'],d['outputDir'])\n",
        "import subprocess\n",
        "res = subprocess.call(cmd)\n",
        "print(res)"
      ],
      "execution_count": 0,
      "outputs": [
        {
          "output_type": "stream",
          "text": [
            "1\n"
          ],
          "name": "stdout"
        }
      ]
    },
    {
      "metadata": {
        "collapsed": true,
        "id": "0z3TbEXI5wkj",
        "colab_type": "code",
        "colab": {},
        "outputId": "a61d5cc8-0237-4cd3-e98f-072dc42a4df4"
      },
      "cell_type": "code",
      "source": [
        "#GPUありで学習\n",
        "!python train_facade.py -g 0 -i $dataRootDir --out $outputDir --snapshot_interval 10000\n"
      ],
      "execution_count": 0,
      "outputs": [
        {
          "output_type": "stream",
          "text": [
            "GPU: 0\n",
            "# Minibatch-size: 1\n",
            "# epoch: 200\n",
            "\n",
            "load dataset start\n",
            "    from: 'F:/Users/Chilly/bulk/dataset/facades'\n",
            "    range: [1, 300)\n"
          ],
          "name": "stdout"
        },
        {
          "output_type": "stream",
          "text": [
            "C:\\Users\\Chilly.Ice-desktop\\Anaconda3\\lib\\site-packages\\h5py\\__init__.py:36: FutureWarning: Conversion of the second argument of issubdtype from `float` to `np.floating` is deprecated. In future, it will be treated as `np.float64 == np.dtype(float).type`.\n",
            "  from ._conv import register_converters as _register_converters\n",
            "Traceback (most recent call last):\n",
            "  File \"train_facade.py\", line 119, in <module>\n",
            "    main()\n",
            "  File \"train_facade.py\", line 70, in main\n",
            "    train_d = FacadeDataset(args.dataset, data_range=(1,300))\n",
            "  File \"E:\\Users\\Chilly\\My Documents\\GoogleBackup\\pycharm\\chainer-pix2pix\\facade_dataset.py\", line 28, in __init__\n",
            "    img = Image.open(dataDir+\"/cmp_b%04d.jpg\"%i)\n",
            "  File \"C:\\Users\\Chilly.Ice-desktop\\Anaconda3\\lib\\site-packages\\PIL\\Image.py\", line 2548, in open\n",
            "    fp = builtins.open(filename, \"rb\")\n",
            "OSError: [Errno 22] Invalid argument: \"'F:/Users/Chilly/bulk/dataset/facades'/cmp_b0001.jpg\"\n"
          ],
          "name": "stderr"
        }
      ]
    },
    {
      "metadata": {
        "id": "yIacX46C5wkn",
        "colab_type": "code",
        "colab": {}
      },
      "cell_type": "code",
      "source": [
        ""
      ],
      "execution_count": 0,
      "outputs": []
    }
  ]
}