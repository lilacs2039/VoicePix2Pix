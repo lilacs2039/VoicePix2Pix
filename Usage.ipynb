{
 "cells": [
  {
   "cell_type": "markdown",
   "metadata": {
    "collapsed": true
   },
   "source": [
    "# 環境構築"
   ]
  },
  {
   "cell_type": "code",
   "execution_count": 4,
   "metadata": {},
   "outputs": [
    {
     "name": "stdout",
     "output_type": "stream",
     "text": [
      "Requirement already satisfied: cupy in c:\\users\\chilly.ice-desktop\\anaconda3\\lib\\site-packages (from -r requirements.txt (line 1)) (5.0.0)\nRequirement already satisfied: chainer in c:\\users\\chilly.ice-desktop\\anaconda3\\lib\\site-packages (from -r requirements.txt (line 2)) (5.0.0)\nRequirement already satisfied: scikit-image in c:\\users\\chilly.ice-desktop\\anaconda3\\lib\\site-packages (from -r requirements.txt (line 3)) (0.13.1)\nRequirement already satisfied: pillow in c:\\users\\chilly.ice-desktop\\anaconda3\\lib\\site-packages (from -r requirements.txt (line 4)) (5.1.0)\nRequirement already satisfied: numpy>=1.9.0 in c:\\users\\chilly.ice-desktop\\anaconda3\\lib\\site-packages (from cupy->-r requirements.txt (line 1)) (1.14.3)\nRequirement already satisfied: fastrlock>=0.3 in c:\\users\\chilly.ice-desktop\\anaconda3\\lib\\site-packages (from cupy->-r requirements.txt (line 1)) (0.4)\nRequirement already satisfied: six>=1.9.0 in c:\\users\\chilly.ice-desktop\\anaconda3\\lib\\site-packages (from cupy->-r requirements.txt (line 1)) (1.11.0)\nRequirement already satisfied: filelock in c:\\users\\chilly.ice-desktop\\anaconda3\\lib\\site-packages (from chainer->-r requirements.txt (line 2)) (3.0.4)\nRequirement already satisfied: protobuf>=3.0.0 in c:\\users\\chilly.ice-desktop\\anaconda3\\lib\\site-packages (from chainer->-r requirements.txt (line 2)) (3.6.1)\nRequirement already satisfied: matplotlib>=1.3.1 in c:\\users\\chilly.ice-desktop\\anaconda3\\lib\\site-packages (from scikit-image->-r requirements.txt (line 3)) (2.2.2)\nRequirement already satisfied: networkx>=1.8 in c:\\users\\chilly.ice-desktop\\anaconda3\\lib\\site-packages (from scikit-image->-r requirements.txt (line 3)) (2.1)\nRequirement already satisfied: PyWavelets>=0.4.0 in c:\\users\\chilly.ice-desktop\\anaconda3\\lib\\site-packages (from scikit-image->-r requirements.txt (line 3)) (0.5.2)\nRequirement already satisfied: setuptools in c:\\users\\chilly.ice-desktop\\anaconda3\\lib\\site-packages (from protobuf>=3.0.0->chainer->-r requirements.txt (line 2)) (39.1.0)\nRequirement already satisfied: cycler>=0.10 in c:\\users\\chilly.ice-desktop\\anaconda3\\lib\\site-packages (from matplotlib>=1.3.1->scikit-image->-r requirements.txt (line 3)) (0.10.0)\nRequirement already satisfied: pyparsing!=2.0.4,!=2.1.2,!=2.1.6,>=2.0.1 in c:\\users\\chilly.ice-desktop\\anaconda3\\lib\\site-packages (from matplotlib>=1.3.1->scikit-image->-r requirements.txt (line 3)) (2.2.0)\nRequirement already satisfied: python-dateutil>=2.1 in c:\\users\\chilly.ice-desktop\\anaconda3\\lib\\site-packages (from matplotlib>=1.3.1->scikit-image->-r requirements.txt (line 3)) (2.7.3)\nRequirement already satisfied: pytz in c:\\users\\chilly.ice-desktop\\anaconda3\\lib\\site-packages (from matplotlib>=1.3.1->scikit-image->-r requirements.txt (line 3)) (2018.4)\nRequirement already satisfied: kiwisolver>=1.0.1 in c:\\users\\chilly.ice-desktop\\anaconda3\\lib\\site-packages (from matplotlib>=1.3.1->scikit-image->-r requirements.txt (line 3)) (1.0.1)\nRequirement already satisfied: decorator>=4.1.0 in c:\\users\\chilly.ice-desktop\\anaconda3\\lib\\site-packages (from networkx>=1.8->scikit-image->-r requirements.txt (line 3)) (4.3.0)\n"
     ]
    },
    {
     "name": "stderr",
     "output_type": "stream",
     "text": [
      "distributed 1.21.8 requires msgpack, which is not installed.\nYou are using pip version 10.0.1, however version 18.1 is available.\nYou should consider upgrading via the 'python -m pip install --upgrade pip' command.\n"
     ]
    }
   ],
   "source": [
    "!pip install -r requirements.txt"
   ]
  },
  {
   "cell_type": "code",
   "execution_count": null,
   "metadata": {},
   "outputs": [],
   "source": []
  }
 ],
 "metadata": {
  "kernelspec": {
   "display_name": "Python 2",
   "language": "python",
   "name": "python2"
  },
  "language_info": {
   "codemirror_mode": {
    "name": "ipython",
    "version": 2
   },
   "file_extension": ".py",
   "mimetype": "text/x-python",
   "name": "python",
   "nbconvert_exporter": "python",
   "pygments_lexer": "ipython2",
   "version": "2.7.6"
  }
 },
 "nbformat": 4,
 "nbformat_minor": 0
}
